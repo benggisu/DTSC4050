{
 "cells": [
  {
   "cell_type": "code",
   "execution_count": 1,
   "id": "54ee87b6",
   "metadata": {
    "_cell_guid": "b1076dfc-b9ad-4769-8c92-a6c4dae69d19",
    "_uuid": "8f2839f25d086af736a60e9eeb907d3b93b6e0e5",
    "execution": {
     "iopub.execute_input": "2024-02-06T00:53:02.802444Z",
     "iopub.status.busy": "2024-02-06T00:53:02.801967Z",
     "iopub.status.idle": "2024-02-06T00:53:03.860845Z",
     "shell.execute_reply": "2024-02-06T00:53:03.859301Z"
    },
    "papermill": {
     "duration": 1.066587,
     "end_time": "2024-02-06T00:53:03.863726",
     "exception": false,
     "start_time": "2024-02-06T00:53:02.797139",
     "status": "completed"
    },
    "tags": []
   },
   "outputs": [
    {
     "name": "stdout",
     "output_type": "stream",
     "text": [
      "/kaggle/input/emotions/text.csv\n"
     ]
    }
   ],
   "source": [
    "# This Python 3 environment comes with many helpful analytics libraries installed\n",
    "# It is defined by the kaggle/python Docker image: https://github.com/kaggle/docker-python\n",
    "# For example, here's several helpful packages to load\n",
    "\n",
    "import numpy as np # linear algebra\n",
    "import pandas as pd # data processing, CSV file I/O (e.g. pd.read_csv)\n",
    "\n",
    "# Input data files are available in the read-only \"../input/\" directory\n",
    "# For example, running this (by clicking run or pressing Shift+Enter) will list all files under the input directory\n",
    "\n",
    "import os\n",
    "for dirname, _, filenames in os.walk('/kaggle/input'):\n",
    "    for filename in filenames:\n",
    "        print(os.path.join(dirname, filename))\n",
    "\n",
    "# You can write up to 20GB to the current directory (/kaggle/working/) that gets preserved as output when you create a version using \"Save & Run All\" \n",
    "# You can also write temporary files to /kaggle/temp/, but they won't be saved outside of the current session"
   ]
  },
  {
   "cell_type": "markdown",
   "id": "bbc8b8b9",
   "metadata": {
    "papermill": {
     "duration": 0.001911,
     "end_time": "2024-02-06T00:53:03.868102",
     "exception": false,
     "start_time": "2024-02-06T00:53:03.866191",
     "status": "completed"
    },
    "tags": []
   },
   "source": [
    "# Exploring Dataset"
   ]
  },
  {
   "cell_type": "code",
   "execution_count": 2,
   "id": "9398fbf6",
   "metadata": {
    "execution": {
     "iopub.execute_input": "2024-02-06T00:53:03.874273Z",
     "iopub.status.busy": "2024-02-06T00:53:03.873677Z",
     "iopub.status.idle": "2024-02-06T00:53:03.879676Z",
     "shell.execute_reply": "2024-02-06T00:53:03.878260Z"
    },
    "papermill": {
     "duration": 0.01201,
     "end_time": "2024-02-06T00:53:03.882123",
     "exception": false,
     "start_time": "2024-02-06T00:53:03.870113",
     "status": "completed"
    },
    "tags": []
   },
   "outputs": [],
   "source": [
    "import numpy as np\n"
   ]
  }
 ],
 "metadata": {
  "kaggle": {
   "accelerator": "none",
   "dataSources": [
    {
     "datasetId": 4403839,
     "sourceId": 7563141,
     "sourceType": "datasetVersion"
    }
   ],
   "isGpuEnabled": false,
   "isInternetEnabled": false,
   "language": "python",
   "sourceType": "notebook"
  },
  "kernelspec": {
   "display_name": "Python 3",
   "language": "python",
   "name": "python3"
  },
  "language_info": {
   "codemirror_mode": {
    "name": "ipython",
    "version": 3
   },
   "file_extension": ".py",
   "mimetype": "text/x-python",
   "name": "python",
   "nbconvert_exporter": "python",
   "pygments_lexer": "ipython3",
   "version": "3.10.13"
  },
  "papermill": {
   "default_parameters": {},
   "duration": 5.166963,
   "end_time": "2024-02-06T00:53:04.607117",
   "environment_variables": {},
   "exception": null,
   "input_path": "__notebook__.ipynb",
   "output_path": "__notebook__.ipynb",
   "parameters": {},
   "start_time": "2024-02-06T00:52:59.440154",
   "version": "2.5.0"
  }
 },
 "nbformat": 4,
 "nbformat_minor": 5
}
